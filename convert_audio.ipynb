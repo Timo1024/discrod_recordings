{
 "cells": [
  {
   "cell_type": "markdown",
   "metadata": {},
   "source": [
    "# Working audio decoding"
   ]
  },
  {
   "cell_type": "code",
   "execution_count": 2,
   "metadata": {},
   "outputs": [],
   "source": [
    "from pydub import AudioSegment\n",
    "from pydub.utils import which\n",
    "import os\n"
   ]
  },
  {
   "cell_type": "code",
   "execution_count": 3,
   "metadata": {},
   "outputs": [],
   "source": [
    "AudioSegment.converter = r\"C:\\ProgramData\\chocolatey\\bin\\ffmpeg.exe\""
   ]
  },
  {
   "cell_type": "code",
   "execution_count": 7,
   "metadata": {},
   "outputs": [],
   "source": [
    "def convert_pcm_to_mp3(pcm_file_path, mp3_file_path, sample_rate=48000, channels=2):\n",
    "    # Read the PCM file\n",
    "    audio = AudioSegment.from_raw(\n",
    "        pcm_file_path,\n",
    "        sample_width=2,  # 2 bytes (16 bits) per sample\n",
    "        frame_rate=sample_rate,\n",
    "        channels=channels\n",
    "    )\n",
    "    # Export the audio as MP3\n",
    "    audio.export(mp3_file_path, format=\"mp3\")"
   ]
  },
  {
   "cell_type": "code",
   "execution_count": 14,
   "metadata": {},
   "outputs": [
    {
     "name": "stdout",
     "output_type": "stream",
     "text": [
      "Converted channel_recording.pcm to MP3.\n"
     ]
    }
   ],
   "source": [
    "recordings_dir = './recordings/1726847008516/'\n",
    "for file_name in os.listdir(recordings_dir):\n",
    "    if file_name.endswith('.pcm'):\n",
    "        pcm_file_path = os.path.join(recordings_dir, file_name)\n",
    "        mp3_file_path = os.path.join(recordings_dir, file_name.replace('.pcm', '.mp3'))\n",
    "        convert_pcm_to_mp3(pcm_file_path, mp3_file_path)\n",
    "        print(f\"Converted {file_name} to MP3.\")"
   ]
  },
  {
   "cell_type": "markdown",
   "metadata": {},
   "source": [
    "# create audio "
   ]
  }
 ],
 "metadata": {
  "kernelspec": {
   "display_name": "Python 3",
   "language": "python",
   "name": "python3"
  },
  "language_info": {
   "codemirror_mode": {
    "name": "ipython",
    "version": 3
   },
   "file_extension": ".py",
   "mimetype": "text/x-python",
   "name": "python",
   "nbconvert_exporter": "python",
   "pygments_lexer": "ipython3",
   "version": "3.12.6"
  }
 },
 "nbformat": 4,
 "nbformat_minor": 2
}
